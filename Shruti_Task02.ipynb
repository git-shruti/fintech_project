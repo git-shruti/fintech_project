{
  "nbformat": 4,
  "nbformat_minor": 0,
  "metadata": {
    "colab": {
      "provenance": [],
      "authorship_tag": "ABX9TyMR4fj5zE2lcrjd48yvlo1p",
      "include_colab_link": true
    },
    "kernelspec": {
      "name": "python3",
      "display_name": "Python 3"
    },
    "language_info": {
      "name": "python"
    }
  },
  "cells": [
    {
      "cell_type": "markdown",
      "metadata": {
        "id": "view-in-github",
        "colab_type": "text"
      },
      "source": [
        "<a href=\"https://colab.research.google.com/github/git-shruti/fintech_project/blob/main/Shruti_Task02.ipynb\" target=\"_parent\"><img src=\"https://colab.research.google.com/assets/colab-badge.svg\" alt=\"Open In Colab\"/></a>"
      ]
    },
    {
      "cell_type": "code",
      "execution_count": null,
      "metadata": {
        "id": "BQHygBzAjBcU"
      },
      "outputs": [],
      "source": [
        "import pandas as pd\n",
        "import numpy as np\n",
        "import yfinance as yf\n",
        "import matplotlib.pyplot as plt\n",
        "\n",
        "def calculate_exponential_moving_average(data, window):\n",
        "    return data['Close'].ewm(span=window, adjust=False).mean()\n",
        "\n",
        "def calculate_relative_strength_index(data, window):\n",
        "    price_diff = data['Close'].diff(1)\n",
        "    gain = price_diff.where(price_diff > 0, 0)\n",
        "    loss = -price_diff.where(price_diff < 0, 0)\n",
        "\n",
        "    avg_gain = gain.rolling(window=window, min_periods=1).mean()\n",
        "    avg_loss = loss.rolling(window=window, min_periods=1).mean()\n",
        "\n",
        "    rs = avg_gain / avg_loss\n",
        "    return 100 - (100 / (1 + rs))\n",
        "\n",
        "def generate_trading_signals(data, ema_window, rsi_window, rsi_overbought, rsi_oversold):\n",
        "    signals = pd.DataFrame(index=data.index)\n",
        "    signals['EMA'] = calculate_exponential_moving_average(data, ema_window)\n",
        "    signals['RSI'] = calculate_relative_strength_index(data, rsi_window)\n",
        "\n",
        "    # Generate trading signals\n",
        "    signals['Signal'] = 0\n",
        "    signals.loc[signals['EMA'] > data['Close'], 'Signal'] = 1  # Long signal\n",
        "    signals.loc[signals['EMA'] < data['Close'], 'Signal'] = -1  # Short signal\n",
        "    signals.loc[(signals['RSI'] > rsi_overbought) & (signals['Signal'] == 1), 'Signal'] = 0  # Exit long\n",
        "    signals.loc[(signals['RSI'] < rsi_oversold) & (signals['Signal'] == -1), 'Signal'] = 0  # Exit short\n",
        "\n",
        "    return signals\n",
        "\n",
        "def backtest_strategy(data, signals, initial_capital=50001, compound=True):\n",
        "    positions = pd.DataFrame(index=data.index)\n",
        "    positions['Position'] = signals['Signal']\n",
        "    positions['Stock'] = 100 * positions['Position']  # Assume 100 shares per trade\n",
        "\n",
        "    # Calculate daily portfolio value\n",
        "    portfolio = positions.multiply(data['Close'], axis=0)\n",
        "    pos_diff = positions.diff()\n",
        "\n",
        "    # Add cash holdings to the portfolio\n",
        "    portfolio['Cash'] = initial_capital - (pos_diff['Stock'] * data['Close']).cumsum()\n",
        "\n",
        "    # Calculate total portfolio value\n",
        "    portfolio['Total'] = portfolio['Stock'] + portfolio['Cash']\n",
        "\n",
        "    # Calculate daily returns\n",
        "    portfolio['Returns'] = portfolio['Total'].pct_change()\n",
        "\n",
        "    if compound:\n",
        "        portfolio['Returns'] = (1 + portfolio['Returns']).cumprod() - 1\n",
        "\n",
        "    return portfolio\n",
        "\n",
        "# Example usage:\n",
        "stock_symbol = 'ITC.NS'\n",
        "start_date = '2016-05-07'\n",
        "end_date = '2022-12-31'\n",
        "\n",
        "stock_data = yf.download(stock_symbol, start=start_date, end=end_date)\n",
        "ema_window = 20\n",
        "rsi_window = 14\n",
        "rsi_overbought = 70\n",
        "rsi_oversold = 30\n",
        "\n",
        "trading_signals = generate_trading_signals(stock_data, ema_window, rsi_window, rsi_overbought, rsi_oversold)\n",
        "portfolio_results = backtest_strategy(stock_data, trading_signals)\n",
        "\n",
        "# Plot equity curve, drawdown chart, and volatility chart\n",
        "plt.figure(figsize=(12, 8))\n",
        "plt.subplot(3, 1, 1)\n",
        "plt.plot(portfolio_results['Total'], label='Equity Curve')\n",
        "plt.legend()\n",
        "\n",
        "plt.subplot(3, 1, 2)\n",
        "plt.plot(portfolio_results['Total'].cummax() - portfolio_results['Total'], label='Drawdown')\n",
        "plt.legend()\n",
        "\n",
        "plt.subplot(3, 1, 3)\n",
        "plt.plot(portfolio_results['Returns'].rolling(window=20).std(), label='Volatility')\n",
        "plt.legend()\n",
        "\n",
        "plt.show()\n"
      ]
    }
  ]
}